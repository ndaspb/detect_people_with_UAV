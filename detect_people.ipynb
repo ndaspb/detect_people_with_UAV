{
 "cells": [
  {
   "cell_type": "code",
   "execution_count": 1,
   "id": "8387b396",
   "metadata": {},
   "outputs": [],
   "source": [
    "import numpy as np\n",
    "import pandas as pd\n",
    "# from google.colab.patches import cv2_imshow\n",
    "from PIL import Image\n",
    "import cv2\n",
    "from pathlib import Path\n",
    "import os\n",
    "import json\n",
    "import matplotlib.pyplot as plt\n",
    "from tqdm import tqdm_notebook as tqdm\n",
    "import torch"
   ]
  },
  {
   "cell_type": "code",
   "execution_count": null,
   "id": "19503e13",
   "metadata": {},
   "outputs": [],
   "source": [
    "# image = cv2.imread('train/4934.JPG')\n",
    "# plt.figure(figsize = (10, 10))\n",
    "# plt.imshow(cv2.cvtColor(image, cv2.COLOR_BGR2RGB))\n",
    "# plt.show()"
   ]
  },
  {
   "cell_type": "code",
   "execution_count": null,
   "id": "e2c6b449",
   "metadata": {},
   "outputs": [],
   "source": [
    "data_df = pd.read_csv(\"train.csv\")"
   ]
  },
  {
   "cell_type": "code",
   "execution_count": null,
   "id": "43a2908b",
   "metadata": {},
   "outputs": [],
   "source": [
    "# data_df.count_region.value_counts()"
   ]
  },
  {
   "cell_type": "code",
   "execution_count": null,
   "id": "85752907",
   "metadata": {},
   "outputs": [],
   "source": [
    "# data_df.head(3)"
   ]
  },
  {
   "cell_type": "code",
   "execution_count": null,
   "id": "a5ac5023",
   "metadata": {},
   "outputs": [],
   "source": [
    "people_in_pic = data_df[data_df['count_region'] > 0]"
   ]
  },
  {
   "cell_type": "code",
   "execution_count": null,
   "id": "daf7f97a",
   "metadata": {},
   "outputs": [],
   "source": [
    "people_in_pic = people_in_pic.reset_index(drop=True)"
   ]
  },
  {
   "cell_type": "code",
   "execution_count": null,
   "id": "ab38bb67",
   "metadata": {},
   "outputs": [],
   "source": [
    "people_in_pic['region_shape'][0]"
   ]
  },
  {
   "cell_type": "code",
   "execution_count": 2,
   "id": "54a68e04",
   "metadata": {},
   "outputs": [],
   "source": [
    "import sys\n",
    "import random"
   ]
  },
  {
   "cell_type": "code",
   "execution_count": null,
   "id": "d4f9d4cf",
   "metadata": {
    "scrolled": true
   },
   "outputs": [],
   "source": [
    "vowels = ('[',']',\"'\",':','c','x','y','r','{','}','\"', ' ')\n",
    "for i in tqdm(range(len(people_in_pic))):\n",
    "    path_img = people_in_pic['ID_img'][i].split('.')\n",
    "    image = cv2.imread(f'train/{path_img[0]}.JPG')\n",
    "    cv2.imwrite(f'data/images/{path_img[0]}.JPG', image)\n",
    "    y_img, x_img, _ = image.shape\n",
    "#     print(x_img, y_img, path_img)\n",
    "    count_people = people_in_pic['count_region'][i]\n",
    "    coor_people = people_in_pic['region_shape'][i]\n",
    "    l_1 = ''.join([c for c in coor_people if c not in vowels])\n",
    "    l = l_1.split(',')\n",
    "    coordinates = []\n",
    "    for j in range(int(count_people)):\n",
    "        \n",
    "#         x1 = int(l[0+j*3])- int(float(l[2+j*3])/2)\n",
    "#         y1 = int(l[1+j*3]) - int(float(l[2+j*3])/2)\n",
    "#         x2 = int(float(l[2+j*3])/2) + int(l[0+j*3])\n",
    "#         y2 = int(float(l[2+j*3])/2) + int(l[1+j*3])\n",
    "# #         print(x1,y1,x2,y2)\n",
    "#         cv2.rectangle(image, (x1, y1), (x2, y2), (0,0,255), 10)\n",
    "        x = int(l[0+j*3])/x_img\n",
    "        y = int(l[1+j*3])/y_img\n",
    "        w = float(l[2+j*3]) / x_img\n",
    "        h = float(l[2+j*3]) / y_img\n",
    "#         print(int(l[0+j*3]),int(l[1+j*3]),int(l[2+j*3]))\n",
    "        coordinates.append('0' + ' '+ str(float('{:.6f}'.format(x))) + ' '  + str(float('{:.6f}'.format(y))) + ' '  + str(float('{:.6f}'.format(w))) + ' '  + str(float('{:.6f}'.format(h))))\n",
    "#     print(coordinates)\n",
    "    \n",
    "    with open(f'data/labels/{path_img[0]}.txt', 'w') as f:#os.path.join(labels, Path(id).with_suffix('.txt')), 'a') as f:\n",
    "        for i in range(int(count_people)):\n",
    "            f.write(coordinates[i] + '\\n')#f\"{cls} {' '.join(f'{x:.6f}' for x in box[0])}\\n\")\n",
    "    f.close()\n",
    "#     break"
   ]
  },
  {
   "cell_type": "code",
   "execution_count": null,
   "id": "57c4a74f",
   "metadata": {},
   "outputs": [],
   "source": [
    "# # image = cv2.imread('train/4934.JPG')\n",
    "# plt.figure(figsize = (10, 10))\n",
    "# plt.imshow(cv2.cvtColor(image, cv2.COLOR_BGR2RGB))\n",
    "# plt.show()"
   ]
  },
  {
   "cell_type": "code",
   "execution_count": null,
   "id": "52a77789",
   "metadata": {
    "scrolled": true
   },
   "outputs": [],
   "source": [
    "!git clone https://github.com/ultralytics/yolov5\n",
    "!cd yolov5 && pip install -r requirements.txt"
   ]
  },
  {
   "cell_type": "code",
   "execution_count": null,
   "id": "a217e320",
   "metadata": {},
   "outputs": [],
   "source": [
    "sys.path.append('yolov5')"
   ]
  },
  {
   "cell_type": "code",
   "execution_count": 24,
   "id": "fd4451ef",
   "metadata": {},
   "outputs": [
    {
     "data": {
      "text/plain": [
       "2348"
      ]
     },
     "execution_count": 24,
     "metadata": {},
     "output_type": "execute_result"
    }
   ],
   "source": [
    "import gc\n",
    "\n",
    "gc.collect()"
   ]
  },
  {
   "cell_type": "code",
   "execution_count": null,
   "id": "35c83cc6",
   "metadata": {},
   "outputs": [],
   "source": [
    "torch.cuda.empty_cache()"
   ]
  },
  {
   "cell_type": "code",
   "execution_count": null,
   "id": "296fa66b",
   "metadata": {
    "scrolled": true
   },
   "outputs": [],
   "source": [
    "!cd yolov5 && python train.py --img 1024 --batch 2 --epochs 50 --data data.yaml --weights yolov5m.pt --cache"
   ]
  },
  {
   "cell_type": "code",
   "execution_count": null,
   "id": "60dd2a3d",
   "metadata": {
    "scrolled": false
   },
   "outputs": [],
   "source": [
    "!cd yolov5 && python detect.py --img 1024 --weights C:/Users/NDA/PycharmProjects/omsk/1024_300.pt --conf 0.1 --source C:/Users/NDA/PycharmProjects/omsk/data/test"
   ]
  },
  {
   "cell_type": "code",
   "execution_count": 25,
   "id": "4859adcd",
   "metadata": {},
   "outputs": [],
   "source": [
    "import torch"
   ]
  },
  {
   "cell_type": "code",
   "execution_count": 26,
   "id": "2d54bf6b",
   "metadata": {},
   "outputs": [
    {
     "name": "stderr",
     "output_type": "stream",
     "text": [
      "YOLOv5  v6.2-233-g892c4cd Python-3.9.13 torch-1.12.1+cpu CPU\n",
      "\n",
      "Fusing layers... \n",
      "Model summary: 212 layers, 20852934 parameters, 0 gradients, 47.9 GFLOPs\n",
      "Adding AutoShape... \n"
     ]
    }
   ],
   "source": [
    "model_path = '2048_500.pt'\n",
    "yolo_path = 'yolov5'\n",
    "model = torch.hub.load(yolo_path, 'custom', path=model_path, source='local')\n",
    "model.conf = 0.1  # NMS confidence threshold\n",
    "# model.iou = 0.45  # NMS IoU threshold\n",
    "#       agnostic = False  # NMS class-agnostic\n",
    "#       multi_label = False  # NMS multiple labels per box\n",
    "#       classes = None  # (optional list) filter by class, i.e. = [0, 15, 16] for COCO persons, cats and dogs\n",
    "#       max_det = 1000  # maximum number of detections per image\n",
    "#       amp = False  # Automatic Mixed Precision (AMP) inference\n"
   ]
  },
  {
   "cell_type": "code",
   "execution_count": 27,
   "id": "754e63cf",
   "metadata": {},
   "outputs": [],
   "source": [
    "df_test = pd.read_csv(\"test.csv\")"
   ]
  },
  {
   "cell_type": "code",
   "execution_count": 20,
   "id": "31e0c401",
   "metadata": {},
   "outputs": [
    {
     "data": {
      "text/html": [
       "<div>\n",
       "<style scoped>\n",
       "    .dataframe tbody tr th:only-of-type {\n",
       "        vertical-align: middle;\n",
       "    }\n",
       "\n",
       "    .dataframe tbody tr th {\n",
       "        vertical-align: top;\n",
       "    }\n",
       "\n",
       "    .dataframe thead th {\n",
       "        text-align: right;\n",
       "    }\n",
       "</style>\n",
       "<table border=\"1\" class=\"dataframe\">\n",
       "  <thead>\n",
       "    <tr style=\"text-align: right;\">\n",
       "      <th></th>\n",
       "      <th>ID_img</th>\n",
       "      <th>region_shape</th>\n",
       "    </tr>\n",
       "  </thead>\n",
       "  <tbody>\n",
       "    <tr>\n",
       "      <th>0</th>\n",
       "      <td>1.JPG</td>\n",
       "      <td>0</td>\n",
       "    </tr>\n",
       "    <tr>\n",
       "      <th>1</th>\n",
       "      <td>2.JPG</td>\n",
       "      <td>0</td>\n",
       "    </tr>\n",
       "    <tr>\n",
       "      <th>2</th>\n",
       "      <td>3.JPG</td>\n",
       "      <td>0</td>\n",
       "    </tr>\n",
       "    <tr>\n",
       "      <th>3</th>\n",
       "      <td>4.JPG</td>\n",
       "      <td>0</td>\n",
       "    </tr>\n",
       "    <tr>\n",
       "      <th>4</th>\n",
       "      <td>5.JPG</td>\n",
       "      <td>0</td>\n",
       "    </tr>\n",
       "    <tr>\n",
       "      <th>5</th>\n",
       "      <td>6.JPG</td>\n",
       "      <td>0</td>\n",
       "    </tr>\n",
       "    <tr>\n",
       "      <th>6</th>\n",
       "      <td>7.JPG</td>\n",
       "      <td>0</td>\n",
       "    </tr>\n",
       "    <tr>\n",
       "      <th>7</th>\n",
       "      <td>8.JPG</td>\n",
       "      <td>0</td>\n",
       "    </tr>\n",
       "    <tr>\n",
       "      <th>8</th>\n",
       "      <td>9.JPG</td>\n",
       "      <td>0</td>\n",
       "    </tr>\n",
       "    <tr>\n",
       "      <th>9</th>\n",
       "      <td>10.JPG</td>\n",
       "      <td>0</td>\n",
       "    </tr>\n",
       "    <tr>\n",
       "      <th>10</th>\n",
       "      <td>11.JPG</td>\n",
       "      <td>0</td>\n",
       "    </tr>\n",
       "    <tr>\n",
       "      <th>11</th>\n",
       "      <td>12.JPG</td>\n",
       "      <td>0</td>\n",
       "    </tr>\n",
       "    <tr>\n",
       "      <th>12</th>\n",
       "      <td>13.JPG</td>\n",
       "      <td>0</td>\n",
       "    </tr>\n",
       "    <tr>\n",
       "      <th>13</th>\n",
       "      <td>14.JPG</td>\n",
       "      <td>0</td>\n",
       "    </tr>\n",
       "    <tr>\n",
       "      <th>14</th>\n",
       "      <td>15.JPG</td>\n",
       "      <td>0</td>\n",
       "    </tr>\n",
       "    <tr>\n",
       "      <th>15</th>\n",
       "      <td>16.JPG</td>\n",
       "      <td>0</td>\n",
       "    </tr>\n",
       "    <tr>\n",
       "      <th>16</th>\n",
       "      <td>17.JPG</td>\n",
       "      <td>0</td>\n",
       "    </tr>\n",
       "    <tr>\n",
       "      <th>17</th>\n",
       "      <td>18.JPG</td>\n",
       "      <td>0</td>\n",
       "    </tr>\n",
       "    <tr>\n",
       "      <th>18</th>\n",
       "      <td>19.JPG</td>\n",
       "      <td>0</td>\n",
       "    </tr>\n",
       "    <tr>\n",
       "      <th>19</th>\n",
       "      <td>20.JPG</td>\n",
       "      <td>0</td>\n",
       "    </tr>\n",
       "  </tbody>\n",
       "</table>\n",
       "</div>"
      ],
      "text/plain": [
       "    ID_img  region_shape\n",
       "0    1.JPG             0\n",
       "1    2.JPG             0\n",
       "2    3.JPG             0\n",
       "3    4.JPG             0\n",
       "4    5.JPG             0\n",
       "5    6.JPG             0\n",
       "6    7.JPG             0\n",
       "7    8.JPG             0\n",
       "8    9.JPG             0\n",
       "9   10.JPG             0\n",
       "10  11.JPG             0\n",
       "11  12.JPG             0\n",
       "12  13.JPG             0\n",
       "13  14.JPG             0\n",
       "14  15.JPG             0\n",
       "15  16.JPG             0\n",
       "16  17.JPG             0\n",
       "17  18.JPG             0\n",
       "18  19.JPG             0\n",
       "19  20.JPG             0"
      ]
     },
     "execution_count": 20,
     "metadata": {},
     "output_type": "execute_result"
    }
   ],
   "source": [
    "df_test.head(20)\n"
   ]
  },
  {
   "cell_type": "code",
   "execution_count": 28,
   "id": "00f8ac16",
   "metadata": {
    "scrolled": false
   },
   "outputs": [
    {
     "name": "stderr",
     "output_type": "stream",
     "text": [
      "C:\\Users\\NDA\\AppData\\Local\\Temp\\ipykernel_15060\\758794589.py:1: TqdmDeprecationWarning: This function will be removed in tqdm==5.0.0\n",
      "Please use `tqdm.notebook.tqdm` instead of `tqdm.tqdm_notebook`\n",
      "  for j in tqdm(range(len(df_test))):\n"
     ]
    },
    {
     "data": {
      "application/json": {
       "ascii": false,
       "bar_format": null,
       "colour": null,
       "elapsed": 0.018918514251708984,
       "initial": 0,
       "n": 0,
       "ncols": null,
       "nrows": 29,
       "postfix": null,
       "prefix": "",
       "rate": null,
       "total": 3435,
       "unit": "it",
       "unit_divisor": 1000,
       "unit_scale": false
      },
      "application/vnd.jupyter.widget-view+json": {
       "model_id": "ead05981cefd4283a28595dd33c9320a",
       "version_major": 2,
       "version_minor": 0
      },
      "text/plain": [
       "  0%|          | 0/3435 [00:00<?, ?it/s]"
      ]
     },
     "metadata": {},
     "output_type": "display_data"
    },
    {
     "name": "stderr",
     "output_type": "stream",
     "text": [
      "C:\\Users\\NDA\\AppData\\Local\\Temp\\ipykernel_15060\\758794589.py:22: SettingWithCopyWarning: \n",
      "A value is trying to be set on a copy of a slice from a DataFrame\n",
      "\n",
      "See the caveats in the documentation: https://pandas.pydata.org/pandas-docs/stable/user_guide/indexing.html#returning-a-view-versus-a-copy\n",
      "  df_test.loc[:, 'region_shape'].loc[j] = sort_coord\n"
     ]
    }
   ],
   "source": [
    "for j in tqdm(range(len(df_test))):\n",
    "    img_path = f\"test/test/{df_test['ID_img'][j]}\"\n",
    "    image = cv2.imread(img_path)\n",
    "    y, x, _ = image.shape\n",
    "    results = model([img_path], size=2048)\n",
    "    coord_pred = []\n",
    "    if results.xyxy[0].shape != torch.Size([0, 6]):\n",
    "        for i in range(len(results.xyxy[0])):\n",
    "            x_1 = int(float(results.xyxy[0][i][0]))\n",
    "            y_1 = int(float(results.xyxy[0][i][1]))\n",
    "            x_2 = int(float(results.xyxy[0][i][2]))\n",
    "            y_2 = int(float(results.xyxy[0][i][3]))\n",
    "            r = max(x_2-x_1, y_2-y_1)\n",
    "            cx = x_1 + int(r/2)\n",
    "            cy = y_1 + int(r/2)\n",
    "            t = '{\"cx\":' +str(cx)+', \"cy\":'+str(cy)+ ', \"r\":' +str(r)+'}'\n",
    "            if r > 30:\n",
    "                coord_pred.append(t)        \n",
    "        sort_coord = sorted(coord_pred)\n",
    "#         df_test.at[j, 'region_shape']  = sort_coord\n",
    "        if len(sort_coord) > 0:\n",
    "            df_test.loc[:, 'region_shape'].loc[j] = sort_coord\n"
   ]
  },
  {
   "cell_type": "code",
   "execution_count": 29,
   "id": "22e962eb",
   "metadata": {},
   "outputs": [
    {
     "data": {
      "text/html": [
       "<div>\n",
       "<style scoped>\n",
       "    .dataframe tbody tr th:only-of-type {\n",
       "        vertical-align: middle;\n",
       "    }\n",
       "\n",
       "    .dataframe tbody tr th {\n",
       "        vertical-align: top;\n",
       "    }\n",
       "\n",
       "    .dataframe thead th {\n",
       "        text-align: right;\n",
       "    }\n",
       "</style>\n",
       "<table border=\"1\" class=\"dataframe\">\n",
       "  <thead>\n",
       "    <tr style=\"text-align: right;\">\n",
       "      <th></th>\n",
       "      <th>ID_img</th>\n",
       "      <th>region_shape</th>\n",
       "    </tr>\n",
       "  </thead>\n",
       "  <tbody>\n",
       "    <tr>\n",
       "      <th>0</th>\n",
       "      <td>1.JPG</td>\n",
       "      <td>0</td>\n",
       "    </tr>\n",
       "    <tr>\n",
       "      <th>1</th>\n",
       "      <td>2.JPG</td>\n",
       "      <td>0</td>\n",
       "    </tr>\n",
       "    <tr>\n",
       "      <th>2</th>\n",
       "      <td>3.JPG</td>\n",
       "      <td>0</td>\n",
       "    </tr>\n",
       "    <tr>\n",
       "      <th>3</th>\n",
       "      <td>4.JPG</td>\n",
       "      <td>0</td>\n",
       "    </tr>\n",
       "    <tr>\n",
       "      <th>4</th>\n",
       "      <td>5.JPG</td>\n",
       "      <td>0</td>\n",
       "    </tr>\n",
       "    <tr>\n",
       "      <th>...</th>\n",
       "      <td>...</td>\n",
       "      <td>...</td>\n",
       "    </tr>\n",
       "    <tr>\n",
       "      <th>3430</th>\n",
       "      <td>3431.JPG</td>\n",
       "      <td>0</td>\n",
       "    </tr>\n",
       "    <tr>\n",
       "      <th>3431</th>\n",
       "      <td>3432.JPG</td>\n",
       "      <td>0</td>\n",
       "    </tr>\n",
       "    <tr>\n",
       "      <th>3432</th>\n",
       "      <td>3433.JPG</td>\n",
       "      <td>0</td>\n",
       "    </tr>\n",
       "    <tr>\n",
       "      <th>3433</th>\n",
       "      <td>3434.JPG</td>\n",
       "      <td>0</td>\n",
       "    </tr>\n",
       "    <tr>\n",
       "      <th>3434</th>\n",
       "      <td>3435.JPG</td>\n",
       "      <td>0</td>\n",
       "    </tr>\n",
       "  </tbody>\n",
       "</table>\n",
       "<p>3435 rows × 2 columns</p>\n",
       "</div>"
      ],
      "text/plain": [
       "        ID_img region_shape\n",
       "0        1.JPG            0\n",
       "1        2.JPG            0\n",
       "2        3.JPG            0\n",
       "3        4.JPG            0\n",
       "4        5.JPG            0\n",
       "...        ...          ...\n",
       "3430  3431.JPG            0\n",
       "3431  3432.JPG            0\n",
       "3432  3433.JPG            0\n",
       "3433  3434.JPG            0\n",
       "3434  3435.JPG            0\n",
       "\n",
       "[3435 rows x 2 columns]"
      ]
     },
     "execution_count": 29,
     "metadata": {},
     "output_type": "execute_result"
    }
   ],
   "source": [
    "df_test"
   ]
  },
  {
   "cell_type": "code",
   "execution_count": 30,
   "id": "d6a5eec6",
   "metadata": {},
   "outputs": [],
   "source": [
    "df_test.to_csv(\"submit1_2048.csv\", index=False) #sample_solution_df.to_csv('sample_solution_27-08-22.csv', sep=';', index=False)"
   ]
  }
 ],
 "metadata": {
  "kernelspec": {
   "display_name": "Python 3 (ipykernel)",
   "language": "python",
   "name": "python3"
  },
  "language_info": {
   "codemirror_mode": {
    "name": "ipython",
    "version": 3
   },
   "file_extension": ".py",
   "mimetype": "text/x-python",
   "name": "python",
   "nbconvert_exporter": "python",
   "pygments_lexer": "ipython3",
   "version": "3.9.13"
  }
 },
 "nbformat": 4,
 "nbformat_minor": 5
}
